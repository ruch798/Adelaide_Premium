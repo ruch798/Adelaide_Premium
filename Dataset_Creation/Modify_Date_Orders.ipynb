{
  "nbformat": 4,
  "nbformat_minor": 0,
  "metadata": {
    "colab": {
      "name": "Modify Date Orders.ipynb",
      "provenance": []
    },
    "kernelspec": {
      "name": "python3",
      "display_name": "Python 3"
    },
    "language_info": {
      "name": "python"
    }
  },
  "cells": [
    {
      "cell_type": "code",
      "metadata": {
        "id": "g3BWGVO_JfgJ"
      },
      "source": [
        "import pandas as pd"
      ],
      "execution_count": 1,
      "outputs": []
    },
    {
      "cell_type": "code",
      "metadata": {
        "colab": {
          "base_uri": "https://localhost:8080/",
          "height": 419
        },
        "id": "ouiyg8PMJmGz",
        "outputId": "f716ae4c-c409-4b19-b561-0c79038bd3f7"
      },
      "source": [
        "df = pd.read_csv(\"orders.csv\")\n",
        "df"
      ],
      "execution_count": 3,
      "outputs": [
        {
          "output_type": "execute_result",
          "data": {
            "text/html": [
              "<div>\n",
              "<style scoped>\n",
              "    .dataframe tbody tr th:only-of-type {\n",
              "        vertical-align: middle;\n",
              "    }\n",
              "\n",
              "    .dataframe tbody tr th {\n",
              "        vertical-align: top;\n",
              "    }\n",
              "\n",
              "    .dataframe thead th {\n",
              "        text-align: right;\n",
              "    }\n",
              "</style>\n",
              "<table border=\"1\" class=\"dataframe\">\n",
              "  <thead>\n",
              "    <tr style=\"text-align: right;\">\n",
              "      <th></th>\n",
              "      <th>order_id</th>\n",
              "      <th>customer_id</th>\n",
              "      <th>payment</th>\n",
              "      <th>order_date</th>\n",
              "      <th>delivery_date</th>\n",
              "    </tr>\n",
              "  </thead>\n",
              "  <tbody>\n",
              "    <tr>\n",
              "      <th>0</th>\n",
              "      <td>1</td>\n",
              "      <td>64</td>\n",
              "      <td>30811</td>\n",
              "      <td>8/30/2021</td>\n",
              "      <td>09/24/2021</td>\n",
              "    </tr>\n",
              "    <tr>\n",
              "      <th>1</th>\n",
              "      <td>2</td>\n",
              "      <td>473</td>\n",
              "      <td>50490</td>\n",
              "      <td>2/3/2021</td>\n",
              "      <td>02/13/2021</td>\n",
              "    </tr>\n",
              "    <tr>\n",
              "      <th>2</th>\n",
              "      <td>3</td>\n",
              "      <td>774</td>\n",
              "      <td>46763</td>\n",
              "      <td>10/8/2021</td>\n",
              "      <td>11/03/2021</td>\n",
              "    </tr>\n",
              "    <tr>\n",
              "      <th>3</th>\n",
              "      <td>4</td>\n",
              "      <td>433</td>\n",
              "      <td>39782</td>\n",
              "      <td>5/6/2021</td>\n",
              "      <td>05/19/2021</td>\n",
              "    </tr>\n",
              "    <tr>\n",
              "      <th>4</th>\n",
              "      <td>5</td>\n",
              "      <td>441</td>\n",
              "      <td>14719</td>\n",
              "      <td>3/23/2021</td>\n",
              "      <td>03/24/2021</td>\n",
              "    </tr>\n",
              "    <tr>\n",
              "      <th>...</th>\n",
              "      <td>...</td>\n",
              "      <td>...</td>\n",
              "      <td>...</td>\n",
              "      <td>...</td>\n",
              "      <td>...</td>\n",
              "    </tr>\n",
              "    <tr>\n",
              "      <th>995</th>\n",
              "      <td>996</td>\n",
              "      <td>345</td>\n",
              "      <td>37843</td>\n",
              "      <td>1/13/2021</td>\n",
              "      <td>02/02/2021</td>\n",
              "    </tr>\n",
              "    <tr>\n",
              "      <th>996</th>\n",
              "      <td>997</td>\n",
              "      <td>346</td>\n",
              "      <td>53831</td>\n",
              "      <td>1/18/2021</td>\n",
              "      <td>01/31/2021</td>\n",
              "    </tr>\n",
              "    <tr>\n",
              "      <th>997</th>\n",
              "      <td>998</td>\n",
              "      <td>407</td>\n",
              "      <td>53308</td>\n",
              "      <td>5/5/2021</td>\n",
              "      <td>05/21/2021</td>\n",
              "    </tr>\n",
              "    <tr>\n",
              "      <th>998</th>\n",
              "      <td>999</td>\n",
              "      <td>428</td>\n",
              "      <td>31643</td>\n",
              "      <td>6/15/2021</td>\n",
              "      <td>07/12/2021</td>\n",
              "    </tr>\n",
              "    <tr>\n",
              "      <th>999</th>\n",
              "      <td>1000</td>\n",
              "      <td>896</td>\n",
              "      <td>27836</td>\n",
              "      <td>4/7/2021</td>\n",
              "      <td>04/24/2021</td>\n",
              "    </tr>\n",
              "  </tbody>\n",
              "</table>\n",
              "<p>1000 rows × 5 columns</p>\n",
              "</div>"
            ],
            "text/plain": [
              "     order_id  customer_id  payment order_date delivery_date\n",
              "0           1           64    30811  8/30/2021    09/24/2021\n",
              "1           2          473    50490   2/3/2021    02/13/2021\n",
              "2           3          774    46763  10/8/2021    11/03/2021\n",
              "3           4          433    39782   5/6/2021    05/19/2021\n",
              "4           5          441    14719  3/23/2021    03/24/2021\n",
              "..        ...          ...      ...        ...           ...\n",
              "995       996          345    37843  1/13/2021    02/02/2021\n",
              "996       997          346    53831  1/18/2021    01/31/2021\n",
              "997       998          407    53308   5/5/2021    05/21/2021\n",
              "998       999          428    31643  6/15/2021    07/12/2021\n",
              "999      1000          896    27836   4/7/2021    04/24/2021\n",
              "\n",
              "[1000 rows x 5 columns]"
            ]
          },
          "metadata": {},
          "execution_count": 3
        }
      ]
    },
    {
      "cell_type": "code",
      "metadata": {
        "colab": {
          "base_uri": "https://localhost:8080/"
        },
        "id": "k0jXsMAWJpv_",
        "outputId": "d70153ef-b1ba-4413-b726-2cffcb5a6064"
      },
      "source": [
        "df.delivery_date.dtype"
      ],
      "execution_count": 4,
      "outputs": [
        {
          "output_type": "execute_result",
          "data": {
            "text/plain": [
              "dtype('O')"
            ]
          },
          "metadata": {},
          "execution_count": 4
        }
      ]
    },
    {
      "cell_type": "code",
      "metadata": {
        "id": "z_vGW-rxJ5zt"
      },
      "source": [
        "def change_date(date_input):\n",
        "  date_input = date_input.split(\"/\")\n",
        "  new_date = date_input[2] + \"-\" + date_input[0] + \"-\" + date_input[1]\n",
        "  return new_date"
      ],
      "execution_count": 15,
      "outputs": []
    },
    {
      "cell_type": "code",
      "metadata": {
        "colab": {
          "base_uri": "https://localhost:8080/"
        },
        "id": "qpD7FIdpJ71Q",
        "outputId": "a8c54ada-4726-484f-a0c1-4e87064a89b7"
      },
      "source": [
        "for idx, row in df.iterrows():\n",
        "  df['order_date'][idx] = change_date(row['order_date'])\n",
        "  df['delivery_date'][idx] = change_date(row['delivery_date'])"
      ],
      "execution_count": 21,
      "outputs": [
        {
          "output_type": "stream",
          "name": "stderr",
          "text": [
            "/usr/local/lib/python3.7/dist-packages/ipykernel_launcher.py:2: SettingWithCopyWarning: \n",
            "A value is trying to be set on a copy of a slice from a DataFrame\n",
            "\n",
            "See the caveats in the documentation: https://pandas.pydata.org/pandas-docs/stable/user_guide/indexing.html#returning-a-view-versus-a-copy\n",
            "  \n",
            "/usr/local/lib/python3.7/dist-packages/ipykernel_launcher.py:3: SettingWithCopyWarning: \n",
            "A value is trying to be set on a copy of a slice from a DataFrame\n",
            "\n",
            "See the caveats in the documentation: https://pandas.pydata.org/pandas-docs/stable/user_guide/indexing.html#returning-a-view-versus-a-copy\n",
            "  This is separate from the ipykernel package so we can avoid doing imports until\n"
          ]
        }
      ]
    },
    {
      "cell_type": "code",
      "metadata": {
        "id": "WYz4sirFLchW"
      },
      "source": [
        "df.to_csv(\"orders.csv\")"
      ],
      "execution_count": 27,
      "outputs": []
    },
    {
      "cell_type": "code",
      "metadata": {
        "id": "TIzkgcOiL8AC"
      },
      "source": [
        ""
      ],
      "execution_count": null,
      "outputs": []
    }
  ]
}